{
 "cells": [
  {
   "cell_type": "code",
   "execution_count": 1,
   "metadata": {},
   "outputs": [],
   "source": [
    "# Dependencies\n",
    "from bs4 import BeautifulSoup as bs\n",
    "import requests\n",
    "from pymongo import MongoClient\n",
    "import pandas as pd\n",
    "from splinter import Browser\n",
    "\n",
    "# Establish Splinter connection\n",
    "executable_path = {'executable_path': 'chromedriver.exe'}\n",
    "browser = Browser('chrome', **executable_path, headless=False)\n",
    "\n",
    "# Target Site to Scrape\n",
    "url1 = 'https://mars.nasa.gov/news/'\n",
    "browser.visit(url1)\n",
    "\n",
    "# Set up Soup Object\n",
    "html = browser.html\n",
    "soup = bs(html, 'html.parser')"
   ]
  },
  {
   "cell_type": "code",
   "execution_count": null,
   "metadata": {},
   "outputs": [],
   "source": [
    "# Grab latest article and title\n",
    "element = soup.select_one('ul.item_list li.slide' )\n",
    "divs = element.find('div' , class_='content_title')\n",
    "divs2 = element.find('div', class_='article_teaser_body')\n",
    "\n",
    "title1 = divs.get_text()\n",
    "link1 = divs.a.attrs['href']\n",
    "Para1 = divs2.get_text()\n",
    "\n",
    "#close the active Browser\n",
    "browser.quit()"
   ]
  },
  {
   "cell_type": "code",
   "execution_count": null,
   "metadata": {},
   "outputs": [],
   "source": [
    "# Establish 2nd Splinter connection\n",
    "executable_path = {'executable_path': 'chromedriver.exe'}\n",
    "browser2 = Browser('chrome', **executable_path, headless=False)\n",
    "\n",
    "# Target 2nd Site to Scrape with 2nd Soup Object\n",
    "url2 = 'https://www.jpl.nasa.gov/spaceimages/?search=&category=Mars'\n",
    "browser2.visit(url2)\n",
    "html2 = browser2.html\n",
    "soup2 = bs(html2, 'html.parser')"
   ]
  },
  {
   "cell_type": "code",
   "execution_count": null,
   "metadata": {},
   "outputs": [],
   "source": [
    "# Navigate to full image (Button) with Splinter \n",
    "button = soup2.find('a',class_='button fancybox')\n",
    "link2 = button.attrs['data-fancybox-href']\n",
    "browser2.click_link_by_partial_text('FULL IMAGE')\n",
    "\n",
    "#Save Full URL of Full Size Image from 2nd Site\n",
    "featured_image_url = (f'https://www.jpl.nasa.govlink2{link2}')\n",
    "\n",
    "#close the active Browser\n",
    "browser2.quit()"
   ]
  },
  {
   "cell_type": "code",
   "execution_count": null,
   "metadata": {},
   "outputs": [],
   "source": [
    "# Establish 3rd Splinter connection\n",
    "executable_path = {'executable_path': 'chromedriver.exe'}\n",
    "browser3 = Browser('chrome', **executable_path, headless=False)\n",
    "\n",
    "# Target 3rd Site to Scrape the latest Mars weather tweet from the page\n",
    "url3 = 'https://twitter.com/marswxreport?lang=en'\n",
    "browser3.visit(url3)\n",
    "html3 = browser3.html\n",
    "soup3 = bs(html3, 'html.parser')\n",
    "\n",
    "tweet = soup3.select_one(\"div.js-tweet-text-container\")\n",
    "mars_weather = tweet.find('p' , class_='TweetTextSize TweetTextSize--normal js-tweet-text tweet-text').text\n",
    "\n",
    "#mars_weather\n",
    "\n",
    "#close the active Browser\n",
    "browser3.quit()"
   ]
  },
  {
   "cell_type": "code",
   "execution_count": null,
   "metadata": {},
   "outputs": [],
   "source": [
    "# Target 4th Site to Scrape the table with Pandas containing facts about the planet including Diameter, Mass, etc.\n",
    "url4 = 'https://space-facts.com/mars/'\n",
    "tables = pd.read_html(url4)\n",
    "\n",
    "# Use Pandas to clean up table and convert to DataFrame without Indexes\n",
    "df = tables[0]\n",
    "df.columns = ['Mars-Earth Comparison', 'Mars', 'Earth']\n",
    "df.set_index('Mars-Earth Comparison', inplace=True)\n",
    "#df.head()\n",
    "\n",
    "# Use Pandas to convert the data to a HTML table string.\n",
    "html_table = df.to_html()\n",
    "#html_table"
   ]
  },
  {
   "cell_type": "code",
   "execution_count": null,
   "metadata": {},
   "outputs": [],
   "source": [
    "### Mars Hemispheres\n",
    "# Establish 4th Splinter connection\n",
    "executable_path = {'executable_path': 'chromedriver.exe'}\n",
    "browser5 = Browser('chrome', **executable_path, headless=False)\n",
    "\n",
    "# Target 5th Site to Scrape both the image url for image, and title \n",
    "url5 = 'https://astrogeology.usgs.gov/search/results?q=hemisphere+enhanced&k1=target&v1=Mars'\n",
    "browser5.visit(url5)\n",
    "html5 = browser5.html\n",
    "soup5 = bs(html5, 'html.parser')\n",
    "\n",
    "base_url = 'https://astrogeology.usgs.gov'\n",
    "titles = []\n",
    "href_paths = []\n",
    "imgurls = []\n",
    "\n",
    "path = soup5.find_all(\"div\", class_=\"description\")\n",
    "\n",
    "for items in path:\n",
    "    href = items.a.attrs['href']\n",
    "    pathstring = (f'{base_url}{href}')\n",
    "    header = items.h3.text\n",
    "    href_paths.append(pathstring)\n",
    "    titles.append(header)\n",
    "    \n",
    "\n",
    "browser5.quit()    \n",
    "#print(\"Items Appended\")"
   ]
  },
  {
   "cell_type": "code",
   "execution_count": null,
   "metadata": {},
   "outputs": [],
   "source": [
    "# Establish 5th Splinter connection for various site itteration\n",
    "executable_path = {'executable_path': 'chromedriver.exe'}\n",
    "browser6 = Browser('chrome', **executable_path, headless=False)\n",
    "\n",
    "# Itterate through various sites to obtain High Resolution Image\n",
    "for links in href_paths:\n",
    "    browser6.visit(links)\n",
    "    html6 = browser6.html\n",
    "    soup6 = bs(html6, 'html.parser')\n",
    "    try:\n",
    "        thumb = soup6.find('div',class_='downloads')\n",
    "        track = thumb.find_all(\"a\")\n",
    "        for anch in track:\n",
    "            if anch.text == 'Original':\n",
    "                imgurls.append(anch.attrs['href'])\n",
    "    except:\n",
    "        imgurls.append(\"Not_Found\")\n",
    "        continue\n",
    "\n",
    "browser6.quit()\n",
    "#print(\"Itteration Complete\")"
   ]
  },
  {
   "cell_type": "code",
   "execution_count": null,
   "metadata": {},
   "outputs": [],
   "source": [
    "#Use a Python dictionary to store the data using the keys `img_url` and `title`.\n",
    "hemisphere_image_urls = []\n",
    "tracker = -1\n",
    "for M in titles:\n",
    "    tracker = tracker +1\n",
    "    p = {\"title\": titles[tracker],\"img_url\":imgurls[tracker]}\n",
    "    hemisphere_image_urls.append(p)\n",
    "#print(hemisphere_image_urls)\n",
    "\n",
    "## Step 2 - MongoDB and Flask Application\n",
    "\n",
    "# Pymongo to work with MongoDb\n",
    "#uri = \"mongodb://localhost:27017\"\n",
    "#client = MongoClient(uri)\n",
    "#Mdb=client.get_database(\"NASA\")\n",
    "#collection=Mdb.get_collection(\"NEWS\")"
   ]
  }
 ],
 "metadata": {
  "kernelspec": {
   "display_name": "Python 3",
   "language": "python",
   "name": "python3"
  },
  "language_info": {
   "codemirror_mode": {
    "name": "ipython",
    "version": 3
   },
   "file_extension": ".py",
   "mimetype": "text/x-python",
   "name": "python",
   "nbconvert_exporter": "python",
   "pygments_lexer": "ipython3",
   "version": "3.7.3"
  }
 },
 "nbformat": 4,
 "nbformat_minor": 2
}
